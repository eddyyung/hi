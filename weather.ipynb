{
  "nbformat": 4,
  "nbformat_minor": 0,
  "metadata": {
    "colab": {
      "provenance": [],
      "authorship_tag": "ABX9TyP9KN5De7xMqDzmn5YEwMGe",
      "include_colab_link": true
    },
    "kernelspec": {
      "name": "python3",
      "display_name": "Python 3"
    },
    "language_info": {
      "name": "python"
    }
  },
  "cells": [
    {
      "cell_type": "markdown",
      "metadata": {
        "id": "view-in-github",
        "colab_type": "text"
      },
      "source": [
        "<a href=\"https://colab.research.google.com/github/eddyyung/hi/blob/master/weather.ipynb\" target=\"_parent\"><img src=\"https://colab.research.google.com/assets/colab-badge.svg\" alt=\"Open In Colab\"/></a>"
      ]
    },
    {
      "cell_type": "code",
      "execution_count": 3,
      "metadata": {
        "colab": {
          "base_uri": "https://localhost:8080/"
        },
        "id": "eJmv2K8ZeCXU",
        "outputId": "7ec495c9-f8d6-4f15-b817-a7e1f91fbd4a"
      },
      "outputs": [
        {
          "output_type": "stream",
          "name": "stdout",
          "text": [
            "請輸入城市名稱: Taipei\n",
            "城市: Taipei\n",
            "天氣: broken clouds\n",
            "溫度: 20.99°C\n",
            "體感溫度: 20.66°C\n",
            "濕度: 58%\n"
          ]
        }
      ],
      "source": [
        "import requests\n",
        "\n",
        "def get_weather(city, api_key):\n",
        "    \"\"\"\n",
        "    取得指定城市的天氣資料。\n",
        "    :param city: 城市名稱\n",
        "    :param api_key: OpenWeatherMap API 密鑰\n",
        "    :return: 天氣資訊字串或錯誤訊息\n",
        "    \"\"\"\n",
        "    url = f\"http://api.openweathermap.org/data/2.5/weather?q={city}&appid=7a27c71ddc515ca80ba6d46a95b4d12f&units=metric\"\n",
        "\n",
        "    try:\n",
        "        response = requests.get(url)\n",
        "        response.raise_for_status()  # 檢查是否有 HTTP 錯誤\n",
        "        data = response.json()\n",
        "\n",
        "        # 解析天氣資料\n",
        "        weather = data[\"weather\"][0][\"description\"]\n",
        "        temp = data[\"main\"][\"temp\"]\n",
        "        feels_like = data[\"main\"][\"feels_like\"]\n",
        "        humidity = data[\"main\"][\"humidity\"]\n",
        "\n",
        "        return (f\"城市: {city}\\n\"\n",
        "                f\"天氣: {weather}\\n\"\n",
        "                f\"溫度: {temp}°C\\n\"\n",
        "                f\"體感溫度: {feels_like}°C\\n\"\n",
        "                f\"濕度: {humidity}%\")\n",
        "\n",
        "    except requests.exceptions.HTTPError as http_err:\n",
        "        return f\"HTTP 錯誤: {http_err}\"\n",
        "    except Exception as err:\n",
        "        return f\"發生錯誤: {err}\"\n",
        "\n",
        "# 主程式\n",
        "if __name__ == \"__main__\":\n",
        "    city = input(\"請輸入城市名稱: \")\n",
        "    api_key = \"7a27c71ddc515ca80ba6d46a95b4d12f\"  # 請到 https://openweathermap.org/api 註冊並取得密鑰\n",
        "\n",
        "    if not api_key or api_key == \"你的_API_密鑰\":\n",
        "        print(\"請先提供有效的 OpenWeatherMap API 密鑰！\")\n",
        "    else:\n",
        "        weather_info = get_weather(city, api_key)\n",
        "        print(weather_info)\n"
      ]
    },
    {
      "cell_type": "code",
      "source": [],
      "metadata": {
        "id": "oI47HBmT-p8x"
      },
      "execution_count": null,
      "outputs": []
    }
  ]
}